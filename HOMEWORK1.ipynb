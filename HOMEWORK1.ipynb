{
 "cells": [
  {
   "attachments": {},
   "cell_type": "markdown",
   "metadata": {},
   "source": [
    "Práctica Clase 1\n",
    "1) Crear una función capaz de convertir números enteros de base 10 a base 2. Debe recibir como parámetro el número a convertir\n",
    "Consideraciones:\n",
    "a. Tratar de resolverlo sin usar la función format(nro,\"b\")\n",
    "b. El pdf \"conversion-de-decimal-a-binario.pdf\" puede servir de ayuda."
   ]
  },
  {
   "cell_type": "code",
   "execution_count": 4,
   "metadata": {},
   "outputs": [],
   "source": [
    "\n",
    "def NumeroBinario(numero):\n",
    "    '''\n",
    "    Esta función recibe como parámetro un número entero mayor ó igual a cero y lo devuelve en su \n",
    "    representación binaria. Debe recibir y devolver un valor de tipo entero.\n",
    "    En caso de que el parámetro no sea de tipo entero y mayor a -1 retorna nulo.\n",
    "    '''\n",
    "    \n",
    "    #Esta función recibe como parámetro un número entero mayor ó igual a cero \n",
    "    \n",
    "    if type(numero) != int or numero < 0:\n",
    "      print(\"El número no es un entero positivo.\")\n",
    "      return None\n",
    "    elif numero == 0: return 0\n",
    "          \n",
    "    \n",
    "    else:\n",
    "      listModulos = []\n",
    "      listRestoModulos = []\n",
    "\n",
    "      while numero >= 1:\n",
    "        currentmodule = numero                #12 numero input. \n",
    "        modulo = numero // 2                  #6 parte entera.\n",
    "        restoModulo = numero % 2              #.0 se le llama modulo tmb al resto.\n",
    "        listModulos.append(modulo)            #[6,...] listado de partes enteras.\n",
    "        listRestoModulos.append(restoModulo)  #[0,...] listado de modulos/restos.\n",
    "        numero = modulo\n",
    "    listRestoModulos.reverse()\n",
    "   \n",
    "   #Debe recibir y devolver un valor de tipo entero.\n",
    "    for i in listRestoModulos: \n",
    "      numeroBinario = int(\"\".join([str(i) for i in listRestoModulos]))\n",
    "    return listRestoModulos, numeroBinario, type(numeroBinario)\n"
   ]
  },
  {
   "cell_type": "code",
   "execution_count": null,
   "metadata": {},
   "outputs": [],
   "source": [
    "#Ejemplo:\n",
    "NumeroBinario(58)\n",
    "\n",
    "#OK REVISADO."
   ]
  },
  {
   "attachments": {},
   "cell_type": "markdown",
   "metadata": {},
   "source": [
    "2) Convertir de decimal a binario las fracciones 1/2, 1/3, 1/4, 1/5, 1/6, 1/7, 1/8, 1/9. Luego analizar los resultados y observar qué particularidad se encuentra en los mismos. Se puede usar Python o una calculadora, lo importante es ver si hay algo que podemos notar...\n",
    "\n",
    "Salida esperada:\n",
    "\n",
    "Fraccion 1 / 2 : 0.5 y En binario: 0.1\n",
    "Fraccion 1 / 3 : 0.3333333333333333 y En binario: 0.010101010101010101010101\n",
    "Fraccion 1 / 4 : 0.25 y En binario: 0.01\n",
    "Fraccion 1 / 5 : 0.2 y En binario: 0.001100110011001100110011\n",
    "Fraccion 1 / 6 : 0.16666666666666666 y En binario: 0.001010101010101010101010\n",
    "Fraccion 1 / 7 : 0.14285714285714285 y En binario: 0.001001001001001001001001\n",
    "Fraccion 1 / 8 : 0.125 y En binario: 0.001\n",
    "Fraccion 1 / 9 : 0.1111111111111111 y En binario: 0.000111000111000111000111"
   ]
  },
  {
   "cell_type": "code",
   "execution_count": 5,
   "metadata": {},
   "outputs": [],
   "source": [
    "#2) Convertir de decimal a binario las fracciones 1/2, 1/3, 1/4, 1/5, 1/6, 1/7, 1/8, 1/9.\n",
    "#Luego analizar los resultados y observar qué particularidad se encuentra en los mismos.\n",
    "#Se puede usar Python o una calculadora, lo importante es ver si hay algo que podemos notar...\n",
    "\n",
    "def decimal_to_binary(decimal, precision):\n",
    "    binary = \"0.\"\n",
    "    while precision > 0:\n",
    "        decimal *= 2\n",
    "        whole = int(decimal)\n",
    "        binary += str(whole)\n",
    "        decimal -= whole\n",
    "        precision -= 1\n",
    "    return float(binary)\n"
   ]
  },
  {
   "cell_type": "code",
   "execution_count": 6,
   "metadata": {},
   "outputs": [
    {
     "name": "stdout",
     "output_type": "stream",
     "text": [
      "0.0101010101010101\n"
     ]
    }
   ],
   "source": [
    "print(decimal_to_binary(0.33333, 24))\n",
    "\n",
    "#OK REVISADO."
   ]
  },
  {
   "cell_type": "code",
   "execution_count": 7,
   "metadata": {},
   "outputs": [
    {
     "name": "stdout",
     "output_type": "stream",
     "text": [
      "Fracción: 1/ 2 : 0.5  y en binario:  0.1\n",
      "Fracción: 1/ 3 : 0.3333333333333333  y en binario:  0.010101010101010102\n",
      "Fracción: 1/ 4 : 0.25  y en binario:  0.01\n",
      "Fracción: 1/ 5 : 0.2  y en binario:  0.0011001100110011\n",
      "Fracción: 1/ 6 : 0.16666666666666666  y en binario:  0.00101010101010101\n",
      "Fracción: 1/ 7 : 0.14285714285714285  y en binario:  0.001001001001001001\n",
      "Fracción: 1/ 8 : 0.125  y en binario:  0.001\n",
      "Fracción: 1/ 9 : 0.1111111111111111  y en binario:  0.000111000111000111\n"
     ]
    }
   ],
   "source": [
    "for i in range (2,10):\n",
    "  print(\"Fracción: 1/\", i ,\":\", 1/i, \" y en binario: \", decimal_to_binary(1/i,24))"
   ]
  }
 ],
 "metadata": {
  "kernelspec": {
   "display_name": "Python 3",
   "language": "python",
   "name": "python3"
  },
  "language_info": {
   "codemirror_mode": {
    "name": "ipython",
    "version": 3
   },
   "file_extension": ".py",
   "mimetype": "text/x-python",
   "name": "python",
   "nbconvert_exporter": "python",
   "pygments_lexer": "ipython3",
   "version": "3.10.9"
  },
  "orig_nbformat": 4,
  "vscode": {
   "interpreter": {
    "hash": "957a0973b20c9ca410cb31745b8585db68510eafaadcea06bf68cd1027372551"
   }
  }
 },
 "nbformat": 4,
 "nbformat_minor": 2
}
